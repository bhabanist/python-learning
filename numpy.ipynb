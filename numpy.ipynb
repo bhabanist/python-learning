{
 "cells": [
  {
   "cell_type": "markdown",
   "id": "557153d3",
   "metadata": {},
   "source": [
    "Today we will study all the packages and related problems for numpy"
   ]
  },
  {
   "cell_type": "code",
   "execution_count": null,
   "id": "8574260a",
   "metadata": {},
   "outputs": [],
   "source": [
    "# here we import all our librarries\n",
    "import numpy as np\n",
    "import matplotlib.pyplot as plt"
   ]
  },
  {
   "cell_type": "markdown",
   "id": "ffbeddab",
   "metadata": {},
   "source": [
    "CREATING ARRAYS"
   ]
  },
  {
   "cell_type": "code",
   "execution_count": 1,
   "id": "a0870a84",
   "metadata": {},
   "outputs": [
    {
     "name": "stdout",
     "output_type": "stream",
     "text": [
      "[1 4 7 9 0]\n"
     ]
    }
   ],
   "source": [
    "# here we import all our librarries\n",
    "import numpy as np\n",
    "import matplotlib.pyplot as plt\n",
    "a1 = np.array([1,4,7,9,0])\n",
    "print(a1)"
   ]
  },
  {
   "cell_type": "code",
   "execution_count": 3,
   "id": "c3dca756",
   "metadata": {},
   "outputs": [
    {
     "name": "stdout",
     "output_type": "stream",
     "text": [
      "[1 4 7 9 0] [0. 0. 0. 0. 0. 0. 0. 0. 0. 0.]\n"
     ]
    }
   ],
   "source": [
    "# here we import all our librarries\n",
    "import numpy as np\n",
    "import matplotlib.pyplot as plt\n",
    "a1 = np.array([1,4,7,9,0])\n",
    "a2 =np.zeros(10) # here we create array of 10 zeros\n",
    "print(a1,a2)"
   ]
  },
  {
   "cell_type": "code",
   "execution_count": 4,
   "id": "36295016",
   "metadata": {},
   "outputs": [
    {
     "name": "stdout",
     "output_type": "stream",
     "text": [
      "[1. 1. 1. 1. 1. 1. 1. 1. 1. 1.]\n"
     ]
    }
   ],
   "source": [
    "# here we import all our librarries\n",
    "import numpy as np\n",
    "import matplotlib.pyplot as plt\n",
    "a1 = np.array([1,4,7,9,0])\n",
    "a2 =np.zeros(10)\n",
    "a3 =np.ones(10)  # here we create array of 10 ones\n",
    "print(a3)"
   ]
  },
  {
   "cell_type": "code",
   "execution_count": 9,
   "id": "89fc2d6b",
   "metadata": {},
   "outputs": [
    {
     "name": "stdout",
     "output_type": "stream",
     "text": [
      "[0.94053839 0.82332639 0.50464618 0.34906391 0.47874785 0.8647423\n",
      " 0.53520796 0.5141102  0.12637657 0.54343256]\n"
     ]
    }
   ],
   "source": [
    "# here we import all our librarries\n",
    "import numpy as np\n",
    "import matplotlib.pyplot as plt\n",
    "a1 = np.array([1,4,7,9,0])\n",
    "a2 =np.zeros(10)\n",
    "a3 =np.ones(10)\n",
    "a4 = np.random.random(10) # here we create 10 random numbers random.random() is the key\n",
    "print(a4)\n",
    "\n",
    "# on every run we will get different result"
   ]
  },
  {
   "cell_type": "code",
   "execution_count": 10,
   "id": "c352455c",
   "metadata": {},
   "outputs": [
    {
     "name": "stdout",
     "output_type": "stream",
     "text": [
      "[0.         0.05050505 0.1010101  0.15151515 0.2020202  0.25252525\n",
      " 0.3030303  0.35353535 0.4040404  0.45454545 0.50505051 0.55555556\n",
      " 0.60606061 0.65656566 0.70707071 0.75757576 0.80808081 0.85858586\n",
      " 0.90909091 0.95959596 1.01010101 1.06060606 1.11111111 1.16161616\n",
      " 1.21212121 1.26262626 1.31313131 1.36363636 1.41414141 1.46464646\n",
      " 1.51515152 1.56565657 1.61616162 1.66666667 1.71717172 1.76767677\n",
      " 1.81818182 1.86868687 1.91919192 1.96969697 2.02020202 2.07070707\n",
      " 2.12121212 2.17171717 2.22222222 2.27272727 2.32323232 2.37373737\n",
      " 2.42424242 2.47474747 2.52525253 2.57575758 2.62626263 2.67676768\n",
      " 2.72727273 2.77777778 2.82828283 2.87878788 2.92929293 2.97979798\n",
      " 3.03030303 3.08080808 3.13131313 3.18181818 3.23232323 3.28282828\n",
      " 3.33333333 3.38383838 3.43434343 3.48484848 3.53535354 3.58585859\n",
      " 3.63636364 3.68686869 3.73737374 3.78787879 3.83838384 3.88888889\n",
      " 3.93939394 3.98989899 4.04040404 4.09090909 4.14141414 4.19191919\n",
      " 4.24242424 4.29292929 4.34343434 4.39393939 4.44444444 4.49494949\n",
      " 4.54545455 4.5959596  4.64646465 4.6969697  4.74747475 4.7979798\n",
      " 4.84848485 4.8989899  4.94949495 5.        ]\n"
     ]
    }
   ],
   "source": [
    "#one of the importrant thing in the use of linspace\n",
    "import numpy as np\n",
    "import matplotlib.pyplot as plt\n",
    "x = np.linspace(0,5,100)  # it is like (first point, final point, number of element)\n",
    "print(x)\n",
    "\n",
    "# it gives me 100 values between 0 and 5"
   ]
  },
  {
   "cell_type": "code",
   "execution_count": 12,
   "id": "fc633e85",
   "metadata": {},
   "outputs": [
    {
     "name": "stdout",
     "output_type": "stream",
     "text": [
      "[0.  0.2 0.4 0.6 0.8 1.  1.2 1.4 1.6 1.8 2.  2.2 2.4 2.6 2.8 3.  3.2 3.4\n",
      " 3.6 3.8 4.  4.2 4.4 4.6 4.8]\n"
     ]
    }
   ],
   "source": [
    "# in arange we can specify our spacing (starting point, final point, spacing)\n",
    "import numpy as np\n",
    "import matplotlib.pyplot as plt\n",
    "x = np.arange(0,5,0.2)\n",
    "print(x)\n",
    "\n",
    "#linspace and arange is very very useful in problem solving as well as plotting."
   ]
  },
  {
   "cell_type": "markdown",
   "id": "837ab4bd",
   "metadata": {},
   "source": [
    "Array operations"
   ]
  },
  {
   "cell_type": "code",
   "execution_count": 13,
   "id": "c0d60919",
   "metadata": {},
   "outputs": [
    {
     "name": "stdout",
     "output_type": "stream",
     "text": [
      "[ 3 12 21 27  0]\n"
     ]
    }
   ],
   "source": [
    "# as we saw in the last class we use array in the place of class as we can do element wise operation for e.g.\n",
    "import numpy as np\n",
    "import matplotlib.pyplot as plt\n",
    "a1 = np.array([1,4,7,9,0])\n",
    "b = 3*a1\n",
    "print(b)\n",
    "\n",
    "# we an see it multplies 3 with every element"
   ]
  },
  {
   "cell_type": "code",
   "execution_count": 15,
   "id": "463249a7",
   "metadata": {},
   "outputs": [
    {
     "name": "stdout",
     "output_type": "stream",
     "text": [
      "[1.         0.25       0.14285714 0.11111111 0.2       ]\n"
     ]
    }
   ],
   "source": [
    "# as we saw in the last class we use array in the place of class as we can do element wise operation for e.g.\n",
    "import numpy as np\n",
    "import matplotlib.pyplot as plt\n",
    "a1 = np.array([1,4,7,9,5])\n",
    "b = 1/a1\n",
    "print(b)\n",
    "\n",
    "# we an see it multplies 3 with every element"
   ]
  },
  {
   "cell_type": "code",
   "execution_count": 18,
   "id": "e1ab3971",
   "metadata": {},
   "outputs": [
    {
     "name": "stdout",
     "output_type": "stream",
     "text": [
      "[3.         2.25       2.14285714 2.11111111 2.2       ]\n"
     ]
    }
   ],
   "source": [
    "# as we saw in the last class we use array in the place of class as we can do element wise operation for e.g.\n",
    "import numpy as np\n",
    "import matplotlib.pyplot as plt\n",
    "a1 = np.array([1,4,7,9,5])\n",
    "b = 1/a1 + 2\n",
    "print(b)\n",
    "\n",
    "# we an see it multplies 3 with every element"
   ]
  },
  {
   "cell_type": "code",
   "execution_count": 19,
   "id": "2df08ff1",
   "metadata": {},
   "outputs": [
    {
     "name": "stdout",
     "output_type": "stream",
     "text": [
      "[ 0.          0.1010101   0.2020202   0.3030303   0.4040404   0.50505051\n",
      "  0.60606061  0.70707071  0.80808081  0.90909091  1.01010101  1.11111111\n",
      "  1.21212121  1.31313131  1.41414141  1.51515152  1.61616162  1.71717172\n",
      "  1.81818182  1.91919192  2.02020202  2.12121212  2.22222222  2.32323232\n",
      "  2.42424242  2.52525253  2.62626263  2.72727273  2.82828283  2.92929293\n",
      "  3.03030303  3.13131313  3.23232323  3.33333333  3.43434343  3.53535354\n",
      "  3.63636364  3.73737374  3.83838384  3.93939394  4.04040404  4.14141414\n",
      "  4.24242424  4.34343434  4.44444444  4.54545455  4.64646465  4.74747475\n",
      "  4.84848485  4.94949495  5.05050505  5.15151515  5.25252525  5.35353535\n",
      "  5.45454545  5.55555556  5.65656566  5.75757576  5.85858586  5.95959596\n",
      "  6.06060606  6.16161616  6.26262626  6.36363636  6.46464646  6.56565657\n",
      "  6.66666667  6.76767677  6.86868687  6.96969697  7.07070707  7.17171717\n",
      "  7.27272727  7.37373737  7.47474747  7.57575758  7.67676768  7.77777778\n",
      "  7.87878788  7.97979798  8.08080808  8.18181818  8.28282828  8.38383838\n",
      "  8.48484848  8.58585859  8.68686869  8.78787879  8.88888889  8.98989899\n",
      "  9.09090909  9.19191919  9.29292929  9.39393939  9.49494949  9.5959596\n",
      "  9.6969697   9.7979798   9.8989899  10.        ]\n"
     ]
    }
   ],
   "source": [
    "# we can use this information for plotting also\n",
    "import numpy as np\n",
    "import matplotlib.pyplot as plt\n",
    "x = np.linspace(0,10,100)\n",
    "print(x)"
   ]
  },
  {
   "cell_type": "code",
   "execution_count": 24,
   "id": "6417be23",
   "metadata": {},
   "outputs": [
    {
     "data": {
      "text/plain": [
       "[<matplotlib.lines.Line2D at 0x7f00880a7b80>]"
      ]
     },
     "execution_count": 24,
     "metadata": {},
     "output_type": "execute_result"
    },
    {
     "data": {
      "image/png": "[encoded data removed]",
      "text/plain": [
       "<Figure size 432x288 with 1 Axes>"
      ]
     },
     "metadata": {
      "needs_background": "light"
     },
     "output_type": "display_data"
    }
   ],
   "source": [
    "# we can use this information for plotting also\n",
    "import numpy as np\n",
    "import matplotlib.pyplot as plt\n",
    "x = np.linspace(0,10,100)\n",
    "y =x**2\n",
    "plt.plot(x,y)\n"
   ]
  },
  {
   "cell_type": "code",
   "execution_count": 16,
   "id": "b5eec2f6",
   "metadata": {},
   "outputs": [
    {
     "name": "stdout",
     "output_type": "stream",
     "text": [
      "[False  True  True  True  True]\n"
     ]
    }
   ],
   "source": [
    "# we can also use array as boolean lets how?\n",
    "import numpy as np\n",
    "import matplotlib.pyplot as plt\n",
    "a1 = np.array([1,4,7,9,5])\n",
    "# here i want to know which are the numbers which are gretor than 3\n",
    "print(a1>3)\n",
    "\n",
    "\n",
    "# we can see only zeroth element was less than 3 so it goes to falso and rest are zero"
   ]
  },
  {
   "cell_type": "code",
   "execution_count": 17,
   "id": "c7b45c38",
   "metadata": {},
   "outputs": [
    {
     "name": "stdout",
     "output_type": "stream",
     "text": [
      "[False  True  True  True  True]\n"
     ]
    }
   ],
   "source": [
    "# we can also use array as boolean lets how?\n",
    "import numpy as np\n",
    "import matplotlib.pyplot as plt\n",
    "a1 = np.array([1,4,7,9,5])\n",
    "# here i want to know which are the numbers which are gretor than 3\n",
    "print(a1>=4)\n",
    "\n",
    "\n",
    "# we can see only zeroth element was less than to 4 so it goes to false and rest are zero we also add equal so 4 also gives true."
   ]
  },
  {
   "cell_type": "code",
   "execution_count": 25,
   "id": "7d896672",
   "metadata": {},
   "outputs": [
    {
     "data": {
      "text/plain": [
       "(array([1., 1., 0., 0., 1., 0., 0., 1., 0., 1.]),\n",
       " array([ 0. ,  2.7,  5.4,  8.1, 10.8, 13.5, 16.2, 18.9, 21.6, 24.3, 27. ]),\n",
       " <BarContainer object of 10 artists>)"
      ]
     },
     "execution_count": 25,
     "metadata": {},
     "output_type": "execute_result"
    },
    {
     "data": {
      "image/png": "[encoded data removed]",
      "text/plain": [
       "<Figure size 432x288 with 1 Axes>"
      ]
     },
     "metadata": {
      "needs_background": "light"
     },
     "output_type": "display_data"
    }
   ],
   "source": [
    "# we can also plot histogram lets see\n",
    "import numpy as np\n",
    "import matplotlib.pyplot as plt\n",
    "a1 = np.array([1,4,7,9,0])\n",
    "b = 3*a1\n",
    "plt.hist(b)"
   ]
  },
  {
   "cell_type": "code",
   "execution_count": 26,
   "id": "d546e1b5",
   "metadata": {},
   "outputs": [
    {
     "data": {
      "text/plain": [
       "[<matplotlib.lines.Line2D at 0x7f0087f8a8b0>]"
      ]
     },
     "execution_count": 26,
     "metadata": {},
     "output_type": "execute_result"
    },
    {
     "data": {
      "image/png": "[encoded data removed]",
      "text/plain": [
       "<Figure size 432x288 with 1 Axes>"
      ]
     },
     "metadata": {
      "needs_background": "light"
     },
     "output_type": "display_data"
    }
   ],
   "source": [
    "# we can define a function in python with \"def\"\n",
    "import numpy as np\n",
    "import matplotlib.pyplot as plt\n",
    "def f(x):\n",
    "    return x**2*np.sin(x)/np.exp(-x)\n",
    "x = np.linspace(-10,10,100)\n",
    "plt.plot(x,f(x))"
   ]
  },
  {
   "cell_type": "markdown",
   "id": "8557ec79",
   "metadata": {},
   "source": [
    "ARRAY INDEXING/SLICING"
   ]
  },
  {
   "cell_type": "code",
   "execution_count": 29,
   "id": "9d763b3b",
   "metadata": {},
   "outputs": [
    {
     "name": "stdout",
     "output_type": "stream",
     "text": [
      "6\n"
     ]
    }
   ],
   "source": [
    "import numpy as np\n",
    "import matplotlib.pyplot as plt\n",
    "a1 = np.array([2,4,6,8,10])\n",
    "print(a1[2])\n",
    "#It gives us 6 because arrays are starting with zeroth number and in this way 6 is the second number"
   ]
  },
  {
   "cell_type": "code",
   "execution_count": 30,
   "id": "712d0b34",
   "metadata": {},
   "outputs": [
    {
     "name": "stdout",
     "output_type": "stream",
     "text": [
      "[2 4]\n"
     ]
    }
   ],
   "source": [
    "import numpy as np\n",
    "import matplotlib.pyplot as plt\n",
    "a1 = np.array([2,4,6,8,10])\n",
    "print(a1[:2])\n",
    "#It gives us all the element before 2nd number i.e. 2 and 4"
   ]
  },
  {
   "cell_type": "code",
   "execution_count": 31,
   "id": "5a0b4313",
   "metadata": {},
   "outputs": [
    {
     "name": "stdout",
     "output_type": "stream",
     "text": [
      "[ 6  8 10]\n"
     ]
    }
   ],
   "source": [
    "import numpy as np\n",
    "import matplotlib.pyplot as plt\n",
    "a1 = np.array([2,4,6,8,10])\n",
    "print(a1[2:])\n",
    "#It gives us all the element after 6 and including 6 "
   ]
  },
  {
   "cell_type": "code",
   "execution_count": 33,
   "id": "9ef7827b",
   "metadata": {},
   "outputs": [
    {
     "name": "stdout",
     "output_type": "stream",
     "text": [
      "[ 6  8 10]\n"
     ]
    }
   ],
   "source": [
    "import numpy as np\n",
    "import matplotlib.pyplot as plt\n",
    "a1 = np.array([2,4,6,8,10])\n",
    "print(a1[2:5])\n",
    "#It gives us all the element after 2nd and before 5th"
   ]
  },
  {
   "cell_type": "markdown",
   "id": "defe73a8",
   "metadata": {},
   "source": [
    "# Calculus/Statistical Functions"
   ]
  },
  {
   "cell_type": "code",
   "execution_count": 35,
   "id": "3c078106",
   "metadata": {},
   "outputs": [
    {
     "name": "stdout",
     "output_type": "stream",
     "text": [
      "[-1.19064219 -0.62861834  0.07049753  0.54515376  4.15411202 -1.92554313\n",
      "  0.17106989  0.02110962  1.54210302  1.91224964]\n"
     ]
    }
   ],
   "source": [
    "import numpy as np\n",
    "import matplotlib.pyplot as plt\n",
    "a1 = 2*np.random.randn(10)\n",
    "print(a1)\n",
    "\n",
    "#basically np.random.randn is number generator which has mean zero and standard deviation 1\n",
    "# here As i multiplied with 2 so mean is as it was before but standard deviation becomes 2\n",
    "# so lets check the mean"
   ]
  },
  {
   "cell_type": "markdown",
   "id": "6366ae7e",
   "metadata": {},
   "source": [
    "Mean,standard deviations,percentiles of arrays"
   ]
  },
  {
   "cell_type": "code",
   "execution_count": 45,
   "id": "56d52008",
   "metadata": {},
   "outputs": [
    {
     "name": "stdout",
     "output_type": "stream",
     "text": [
      "0.0008311876171549971\n"
     ]
    }
   ],
   "source": [
    "import numpy as np\n",
    "import matplotlib.pyplot as plt\n",
    "a1 = 2*np.random.randn(1000000)\n",
    "y = np.mean(a1)\n",
    "z = np.std(a1)\n",
    "print(y)\n",
    "\n",
    "# as we can see mean is close to zero"
   ]
  },
  {
   "cell_type": "code",
   "execution_count": 46,
   "id": "82b8fba8",
   "metadata": {},
   "outputs": [
    {
     "name": "stdout",
     "output_type": "stream",
     "text": [
      "2.001637151547819\n"
     ]
    }
   ],
   "source": [
    "import numpy as np\n",
    "import matplotlib.pyplot as plt\n",
    "a1 = 2*np.random.randn(1000000)\n",
    "y = np.mean(a1)\n",
    "z = np.std(a1)\n",
    "print(z)\n",
    "\n",
    "# as we can see standard deviation  is close to two. more the sample better is the result"
   ]
  },
  {
   "cell_type": "code",
   "execution_count": 49,
   "id": "cf250a2d",
   "metadata": {},
   "outputs": [
    {
     "name": "stdout",
     "output_type": "stream",
     "text": [
      "1.6806856881498122\n"
     ]
    }
   ],
   "source": [
    "# lets check percentiles\n",
    "import numpy as np\n",
    "import matplotlib.pyplot as plt\n",
    "a1 = 2*np.random.randn(1000000)\n",
    "k = np.percentile(a1,80)\n",
    "print(k)\n",
    "\n",
    "# it tells me that 80% of total numbers is less tham 1.68"
   ]
  },
  {
   "cell_type": "markdown",
   "id": "6b3d7f8b",
   "metadata": {},
   "source": [
    "# Integrals and Derivatives"
   ]
  },
  {
   "cell_type": "markdown",
   "id": "816096e9",
   "metadata": {},
   "source": [
    "Lets say i want differentiate and integrate a funcion $f(x) = \\frac{sin(x)}{x^2}$ and integration limit is 0 to 10 so how we will do it?"
   ]
  },
  {
   "cell_type": "code",
   "execution_count": 50,
   "id": "f3d0d0e3",
   "metadata": {},
   "outputs": [
    {
     "data": {
      "text/plain": [
       "[<matplotlib.lines.Line2D at 0x7f0087d4d4c0>]"
      ]
     },
     "execution_count": 50,
     "metadata": {},
     "output_type": "execute_result"
    },
    {
     "data": {
      "image/png": "[encoded data removed]",
      "text/plain": [
       "<Figure size 432x288 with 1 Axes>"
      ]
     },
     "metadata": {
      "needs_background": "light"
     },
     "output_type": "display_data"
    }
   ],
   "source": [
    "import numpy as np\n",
    "import matplotlib.pyplot as plt\n",
    "x = np.linspace(1,10,100)\n",
    "f = np.sin(x)/x**2\n",
    "plt.plot(x,f)"
   ]
  },
  {
   "cell_type": "code",
   "execution_count": 52,
   "id": "032337f2",
   "metadata": {},
   "outputs": [
    {
     "data": {
      "text/plain": [
       "[<matplotlib.lines.Line2D at 0x7f0087cda070>]"
      ]
     },
     "execution_count": 52,
     "metadata": {},
     "output_type": "execute_result"
    },
    {
     "data": {
      "image/png": "[encoded data removed]",
      "text/plain": [
       "<Figure size 432x288 with 1 Axes>"
      ]
     },
     "metadata": {
      "needs_background": "light"
     },
     "output_type": "display_data"
    }
   ],
   "source": [
    "#lets differntiate it\n",
    "import numpy as np\n",
    "import matplotlib.pyplot as plt\n",
    "x = np.linspace(1,10,100)\n",
    "f = np.sin(x)/x**2\n",
    "#we defined derivative term as dydx just a variable\n",
    "dydx = np.gradient(f,x)\n",
    "plt.plot(x,f)\n",
    "plt.plot(x,dydx)"
   ]
  },
  {
   "cell_type": "code",
   "execution_count": 54,
   "id": "de3bd0cb",
   "metadata": {},
   "outputs": [
    {
     "name": "stdout",
     "output_type": "stream",
     "text": [
      "[ 2  5 10 17]\n"
     ]
    }
   ],
   "source": [
    "# for integrating we will use something called as cumulative sum so lets see what it does\n",
    "import numpy as np\n",
    "import matplotlib.pyplot as plt\n",
    "a1 = np.array([2,3,5,7])\n",
    "a2 = np.cumsum(a1)\n",
    "print(a2)\n",
    "#So basically it just added to the previous sum"
   ]
  },
  {
   "cell_type": "code",
   "execution_count": 57,
   "id": "4d848167",
   "metadata": {},
   "outputs": [
    {
     "data": {
      "text/plain": [
       "<matplotlib.legend.Legend at 0x7f0087892e50>"
      ]
     },
     "execution_count": 57,
     "metadata": {},
     "output_type": "execute_result"
    },
    {
     "data": {
      "image/png": "[encoded data removed]",
      "text/plain": [
       "<Figure size 432x288 with 1 Axes>"
      ]
     },
     "metadata": {
      "needs_background": "light"
     },
     "output_type": "display_data"
    }
   ],
   "source": [
    "#Now lets integrate it\n",
    "import numpy as np\n",
    "import matplotlib.pyplot as plt\n",
    "x = np.linspace(1,10,100)\n",
    "f = np.sin(x)/x**2\n",
    "dydx = np.gradient(f,x)\n",
    "# Here we will define integration as np.cumsum i.e. cumulative sum\n",
    "f_int =np.cumsum(f)\n",
    "plt.plot(x,f, label ='function')\n",
    "plt.plot(x,dydx , label = 'differentiation')\n",
    "plt.plot(x,f_int,label = 'integration')\n",
    "plt.legend()"
   ]
  },
  {
   "cell_type": "code",
   "execution_count": 58,
   "id": "147f44e5",
   "metadata": {},
   "outputs": [
    {
     "data": {
      "text/plain": [
       "<matplotlib.legend.Legend at 0x7f00878a7130>"
      ]
     },
     "execution_count": 58,
     "metadata": {},
     "output_type": "execute_result"
    },
    {
     "data": {
      "image/png": "[encoded data removed]",
      "text/plain": [
       "<Figure size 432x288 with 1 Axes>"
      ]
     },
     "metadata": {
      "needs_background": "light"
     },
     "output_type": "display_data"
    }
   ],
   "source": [
    "#Now lets integrate it\n",
    "import numpy as np\n",
    "import matplotlib.pyplot as plt\n",
    "x = np.linspace(-10,10,100)\n",
    "f = np.sin(x)/x**2\n",
    "dydx = np.gradient(f,x)\n",
    "# Here we will define integration as np.cumsum i.e. cumulative sum\n",
    "f_int =np.cumsum(f)\n",
    "plt.plot(x,f, label ='function')\n",
    "plt.plot(x,dydx , label = 'differentiation')\n",
    "plt.plot(x,f_int,label = 'integration')\n",
    "plt.legend()"
   ]
  },
  {
   "cell_type": "markdown",
   "id": "a314c450",
   "metadata": {},
   "source": [
    "# Problem-1"
   ]
  },
  {
   "cell_type": "markdown",
   "id": "4a5df406",
   "metadata": {},
   "source": [
    "Let $y = e^{-{x/10}}sin(x)$consider 10000 x intervals in the range[0,10]\n",
    "\n",
    " $\\bullet$ plot the function y vs. x in the range[0,10]\\\n",
    " $\\bullet$ compute the mean and standard deviation of y for x values in range [4,7]\\\n",
    " $\\bullet$ For x in the range [4,7], find $y_m$ such that 80% of y values are less than $y_m$.\\\n",
    " $\\bullet$ find $\\frac{dy}{dx}$ vs x and plot it.\\\n",
    " $\\bullet$ Find the locations where $\\frac{dy}{dx}$ = 0.\n"
   ]
  },
  {
   "cell_type": "code",
   "execution_count": 59,
   "id": "e8852dd3",
   "metadata": {},
   "outputs": [
    {
     "data": {
      "text/plain": [
       "[<matplotlib.lines.Line2D at 0x7f0087737fd0>]"
      ]
     },
     "execution_count": 59,
     "metadata": {},
     "output_type": "execute_result"
    },
    {
     "data": {
      "image/png": "[encoded data removed]",
      "text/plain": [
       "<Figure size 432x288 with 1 Axes>"
      ]
     },
     "metadata": {
      "needs_background": "light"
     },
     "output_type": "display_data"
    }
   ],
   "source": [
    "##1\n",
    "import numpy as np\n",
    "import matplotlib.pyplot as plt\n",
    "x = np.linspace(0,10,10000)\n",
    "f = np.sin(x)*np.exp(-x/10)\n",
    "plt.plot(x,f)\n",
    "\n"
   ]
  },
  {
   "cell_type": "code",
   "execution_count": 84,
   "id": "4c73a633",
   "metadata": {},
   "outputs": [
    {
     "name": "stdout",
     "output_type": "stream",
     "text": [
      "-0.2956362863932012 0.3144532369395424\n"
     ]
    },
    {
     "data": {
      "text/plain": [
       "(array([0., 0., 0., 0., 0., 1., 0., 0., 0., 0.]),\n",
       " array([-0.18554676, -0.08554676,  0.01445324,  0.11445324,  0.21445324,\n",
       "         0.31445324,  0.41445324,  0.51445324,  0.61445324,  0.71445324,\n",
       "         0.81445324]),\n",
       " <BarContainer object of 10 artists>)"
      ]
     },
     "execution_count": 84,
     "metadata": {},
     "output_type": "execute_result"
    },
    {
     "data": {
      "image/png": "[encoded data removed]",
      "text/plain": [
       "<Figure size 432x288 with 1 Axes>"
      ]
     },
     "metadata": {
      "needs_background": "light"
     },
     "output_type": "display_data"
    }
   ],
   "source": [
    "##2\n",
    "import numpy as np\n",
    "import matplotlib.pyplot as plt\n",
    "x = np.linspace(0,10,10000)\n",
    "f = np.sin(x)*np.exp(-x/10)\n",
    "f_m = np.mean(f[(x>=4)*(x<=7)])\n",
    "f_s = np.std(f[(x>=4)*(x<=7)])\n",
    "print(f_m,f_s)\n",
    "plt.hist(f_m)\n",
    "plt.hist(f_s)"
   ]
  },
  {
   "cell_type": "code",
   "execution_count": 85,
   "id": "5acc11ee",
   "metadata": {},
   "outputs": [
    {
     "name": "stdout",
     "output_type": "stream",
     "text": [
      "0.061372680560897265\n"
     ]
    },
    {
     "data": {
      "text/plain": [
       "(array([0., 0., 0., 0., 1., 0., 0., 0., 0., 0.]),\n",
       " array([-0.43862732, -0.33862732, -0.23862732, -0.13862732, -0.03862732,\n",
       "         0.06137268,  0.16137268,  0.26137268,  0.36137268,  0.46137268,\n",
       "         0.56137268]),\n",
       " <BarContainer object of 10 artists>)"
      ]
     },
     "execution_count": 85,
     "metadata": {},
     "output_type": "execute_result"
    },
    {
     "data": {
      "image/png": "[encoded data removed]",
      "text/plain": [
       "<Figure size 432x288 with 1 Axes>"
      ]
     },
     "metadata": {
      "needs_background": "light"
     },
     "output_type": "display_data"
    }
   ],
   "source": [
    "##3\n",
    "import numpy as np\n",
    "import matplotlib.pyplot as plt\n",
    "x = np.linspace(0,10,10000)\n",
    "f = np.sin(x)*np.exp(-x/10)\n",
    "f_p =np.percentile(f[(x>=4)*(x<=7)],80)\n",
    "print(f_p)\n",
    "plt.hist(f_p)"
   ]
  },
  {
   "cell_type": "code",
   "execution_count": 75,
   "id": "fcb3f6c3",
   "metadata": {},
   "outputs": [
    {
     "data": {
      "text/plain": [
       "<matplotlib.legend.Legend at 0x7f008740d5b0>"
      ]
     },
     "execution_count": 75,
     "metadata": {},
     "output_type": "execute_result"
    },
    {
     "data": {
      "image/png": "[encoded data removed]",
      "text/plain": [
       "<Figure size 432x288 with 1 Axes>"
      ]
     },
     "metadata": {
      "needs_background": "light"
     },
     "output_type": "display_data"
    }
   ],
   "source": [
    "##4\n",
    "import numpy as np\n",
    "import matplotlib.pyplot as plt\n",
    "x = np.linspace(0,10,10000)\n",
    "f = np.sin(x)*np.exp(-x/10)\n",
    "dydx = np.gradient(f,x)\n",
    "plt.plot(x,f,label ='function')\n",
    "plt.plot(x,dydx,label = 'derivative')\n",
    "plt.legend()"
   ]
  },
  {
   "cell_type": "code",
   "execution_count": null,
   "id": "cdc8af26",
   "metadata": {},
   "outputs": [],
   "source": [
    " "
   ]
  },
  {
   "cell_type": "markdown",
   "id": "62bf43e5",
   "metadata": {},
   "source": [
    "# Problem-2\n",
    "Consider the flower petal $r(\\theta) = 1 + \\frac{3}{4}\\sin(3\\theta)$ for $0 \\leq \\theta \\leq 2\\pi$\n",
    "\n",
    "$\\bullet$ Make plot of the flower (find x and y points)\\\n",
    "$\\bullet$ compute the area using the calculus formula $ A = \\int_{0}^{2\\pi}\\frac{1}{2} r^2 d\\theta$\\\n",
    "$\\bullet$ compute the arclength using the calculus formula $L = \\int_{0}^{2\\pi} \\sqrt{ r^2 + (\\frac{dr}{d\\theta})^2}d\\theta$"
   ]
  },
  {
   "cell_type": "code",
   "execution_count": 87,
   "id": "1bc89bda",
   "metadata": {},
   "outputs": [
    {
     "data": {
      "text/plain": [
       "[<matplotlib.lines.Line2D at 0x7f0084b8e880>]"
      ]
     },
     "execution_count": 87,
     "metadata": {},
     "output_type": "execute_result"
    },
    {
     "data": {
      "image/png": "[encoded data removed]",
      "text/plain": [
       "<Figure size 432x288 with 1 Axes>"
      ]
     },
     "metadata": {
      "needs_background": "light"
     },
     "output_type": "display_data"
    }
   ],
   "source": [
    "##1\n",
    "# Algorithm is first define values for theta take 100 values in between and we have to find x and y from r and theta.\n",
    "import numpy as np\n",
    "import matplotlib.pyplot as plt\n",
    "theta = np.linspace(0,2*np.pi,1000)\n",
    "r = 1 + 3/4 * np.sin(3*theta)\n",
    "x = r*np.cos(theta)\n",
    "y = r*np.sin(theta)\n",
    "plt.plot(x,y)"
   ]
  },
  {
   "cell_type": "code",
   "execution_count": 105,
   "id": "c9b27518",
   "metadata": {},
   "outputs": [
    {
     "name": "stdout",
     "output_type": "stream",
     "text": [
      "4.0568988465390925\n"
     ]
    }
   ],
   "source": [
    "##2\n",
    "import numpy as np\n",
    "import matplotlib.pyplot as plt\n",
    "theta = np.linspace(0,2*np.pi,100)\n",
    "r = 1 + 3/4 * np.sin(3*theta)\n",
    "f = 1/2 *sum(r**2)\n",
    "A = f*(theta[1] -theta[0])\n",
    "print(A)\n",
    "#(theta[1] -theta[0]) is basically difference of 1st and 2nd element of theta"
   ]
  },
  {
   "cell_type": "code",
   "execution_count": 106,
   "id": "6e530e58",
   "metadata": {},
   "outputs": [
    {
     "name": "stdout",
     "output_type": "stream",
     "text": [
      "11.734540753337589\n"
     ]
    }
   ],
   "source": [
    "##3\n",
    "import numpy as np\n",
    "import matplotlib.pyplot as plt\n",
    "theta = np.linspace(0,2*np.pi,100)\n",
    "r = 1 + 3/4 * np.sin(3*theta)\n",
    "drdth =np.gradient(r,theta)\n",
    "f = np.sqrt(r**2 + drdth**2 )\n",
    "L = sum(f)*(theta[1] -theta[0])\n",
    "print(L)"
   ]
  },
  {
   "cell_type": "code",
   "execution_count": null,
   "id": "1d48ffc8",
   "metadata": {},
   "outputs": [],
   "source": []
  }
 ],
 "metadata": {
  "kernelspec": {
   "display_name": "Python 3 (ipykernel)",
   "language": "python",
   "name": "python3"
  },
  "language_info": {
   "codemirror_mode": {
    "name": "ipython",
    "version": 3
   },
   "file_extension": ".py",
   "mimetype": "text/x-python",
   "name": "python",
   "nbconvert_exporter": "python",
   "pygments_lexer": "ipython3",
   "version": "3.9.12"
  }
 },
 "nbformat": 4,
 "nbformat_minor": 5
}
