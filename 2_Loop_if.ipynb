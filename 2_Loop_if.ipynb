{
 "cells": [
  {
   "cell_type": "markdown",
   "id": "892b228c",
   "metadata": {},
   "source": [
    "# loops and If statements"
   ]
  },
  {
   "cell_type": "markdown",
   "id": "50e30db2",
   "metadata": {},
   "source": [
    "Loops\n",
    "\n",
    "1. For loops\n",
    "a. Regular loops"
   ]
  },
  {
   "cell_type": "code",
   "execution_count": 1,
   "id": "78969330",
   "metadata": {},
   "outputs": [
    {
     "name": "stdout",
     "output_type": "stream",
     "text": [
      "0\n",
      "1\n",
      "2\n",
      "3\n",
      "4\n"
     ]
    }
   ],
   "source": [
    "for i in range(5):   # we are asking to run upto we get 5 elements and python is bydefult starting from 0\n",
    "    print(i)"
   ]
  },
  {
   "cell_type": "code",
   "execution_count": 8,
   "id": "839d1601",
   "metadata": {},
   "outputs": [
    {
     "name": "stdout",
     "output_type": "stream",
     "text": [
      "0\n",
      "1\n",
      "2\n",
      "3\n",
      "4\n",
      "5\n"
     ]
    }
   ],
   "source": [
    "for i in range(6):   # we are asking to run upto we get 5 elements and python is bydefult starting from 0\n",
    "    print(i)"
   ]
  },
  {
   "cell_type": "markdown",
   "id": "3da2b3cf",
   "metadata": {},
   "source": [
    "Lets do something better, if i want to know 1st 10 number's cube so we dont need to write a full array of 10 numbers.we can do that just by using loops\n"
   ]
  },
  {
   "cell_type": "code",
   "execution_count": 17,
   "id": "4b1ed844",
   "metadata": {},
   "outputs": [
    {
     "data": {
      "text/plain": [
       "[0, 1, 2, 3, 4, 5, 6, 7, 8, 9, 10]"
      ]
     },
     "execution_count": 17,
     "metadata": {},
     "output_type": "execute_result"
    }
   ],
   "source": [
    "x = []  # here we created a empty list\n",
    "for i in range(11):\n",
    "    x.append(i)  # Here first it list 0 to 10 and as we ask for i it gives all i\n",
    "x\n"
   ]
  },
  {
   "cell_type": "code",
   "execution_count": 18,
   "id": "11a97e11",
   "metadata": {},
   "outputs": [
    {
     "data": {
      "text/plain": [
       "[0, 1, 4, 9, 16, 25, 36, 49, 64, 81, 100]"
      ]
     },
     "execution_count": 18,
     "metadata": {},
     "output_type": "execute_result"
    }
   ],
   "source": [
    "x = []  # here we created a empty list\n",
    "for i in range(11):\n",
    "    x.append(i**2)  # Here first it list 0 to 10 and as we ask for i square it gives all i squares as list\n",
    "x\n"
   ]
  },
  {
   "cell_type": "code",
   "execution_count": 19,
   "id": "8993792d",
   "metadata": {},
   "outputs": [
    {
     "data": {
      "text/plain": [
       "[0, 1, 8, 27, 64, 125, 216, 343, 512, 729, 1000]"
      ]
     },
     "execution_count": 19,
     "metadata": {},
     "output_type": "execute_result"
    }
   ],
   "source": [
    "x = []  # here we created a empty list\n",
    "for i in range(11):\n",
    "    x.append(i**3)  # Here first it list 0 to 10 and as we ask for  cube of all i it gives all i^3\n",
    "x\n"
   ]
  },
  {
   "cell_type": "markdown",
   "id": "625a7451",
   "metadata": {},
   "source": [
    "b.List Loops"
   ]
  },
  {
   "cell_type": "code",
   "execution_count": 21,
   "id": "12557447",
   "metadata": {},
   "outputs": [
    {
     "name": "stdout",
     "output_type": "stream",
     "text": [
      "cat\n",
      "dog\n",
      "mouse\n"
     ]
    }
   ],
   "source": [
    "x = ['cat','dog','mouse']   \n",
    "for items in x:           # here items is a variable\n",
    "    print(items)"
   ]
  },
  {
   "cell_type": "markdown",
   "id": "c77d9a2a",
   "metadata": {},
   "source": [
    "c. Enumeration loop\n",
    "it is basically kind a combination of both the loops.\n"
   ]
  },
  {
   "cell_type": "code",
   "execution_count": 22,
   "id": "cd042470",
   "metadata": {},
   "outputs": [
    {
     "name": "stdout",
     "output_type": "stream",
     "text": [
      "index 0 contains dog \n",
      "index 1 contains cat \n",
      "index 2 contains mosue \n"
     ]
    }
   ],
   "source": [
    "x = ['dog','cat','mosue']\n",
    "for i, item in enumerate(x):\n",
    "    print(\"index {} contains {} \".format(i,item))"
   ]
  },
  {
   "cell_type": "code",
   "execution_count": 23,
   "id": "58559454",
   "metadata": {},
   "outputs": [
    {
     "name": "stdout",
     "output_type": "stream",
     "text": [
      "index 0 contains dog \n",
      "index 1 contains cat \n",
      "index 2 contains mosue \n",
      "index 3 contains bhabani \n",
      "index 4 contains nemani \n"
     ]
    }
   ],
   "source": [
    "x = ['dog','cat','mosue','bhabani','nemani']\n",
    "for i, item in enumerate(x):\n",
    "    print(\"index {} contains {} \".format(i,item))"
   ]
  },
  {
   "cell_type": "markdown",
   "id": "4ec245df",
   "metadata": {},
   "source": [
    "If i change things in .format {},{} will be interchange."
   ]
  },
  {
   "cell_type": "code",
   "execution_count": 24,
   "id": "f57c756e",
   "metadata": {},
   "outputs": [
    {
     "name": "stdout",
     "output_type": "stream",
     "text": [
      "index dog contains 0 \n",
      "index cat contains 1 \n",
      "index mosue contains 2 \n",
      "index bhabani contains 3 \n",
      "index nemani contains 4 \n"
     ]
    }
   ],
   "source": [
    "x = ['dog','cat','mosue','bhabani','nemani']\n",
    "for i, item in enumerate(x):\n",
    "    print(\"index {} contains {} \".format(item,i))"
   ]
  },
  {
   "cell_type": "markdown",
   "id": "3802bcaf",
   "metadata": {},
   "source": [
    "d.List comprehension loop"
   ]
  },
  {
   "cell_type": "code",
   "execution_count": 26,
   "id": "883cfd86",
   "metadata": {},
   "outputs": [
    {
     "data": {
      "text/plain": [
       "[0, 1, 2, 3, 4, 5, 6, 7, 8, 9, 10]"
      ]
     },
     "execution_count": 26,
     "metadata": {},
     "output_type": "execute_result"
    }
   ],
   "source": [
    "x = [i for i in range(11)]\n",
    "x    # kind a same thing that we did in regular loop"
   ]
  },
  {
   "cell_type": "code",
   "execution_count": 27,
   "id": "c7d5905f",
   "metadata": {},
   "outputs": [
    {
     "data": {
      "text/plain": [
       "[0, 1, 8, 27, 64, 125, 216, 343, 512, 729, 1000]"
      ]
     },
     "execution_count": 27,
     "metadata": {},
     "output_type": "execute_result"
    }
   ],
   "source": [
    "x = [i**3 for i in range(11)]\n",
    "x    # kind a same thing that we did in regular loop but this a easier way"
   ]
  },
  {
   "cell_type": "markdown",
   "id": "391be9ab",
   "metadata": {},
   "source": [
    "e. Double for loops"
   ]
  },
  {
   "cell_type": "code",
   "execution_count": 28,
   "id": "2d196f8c",
   "metadata": {},
   "outputs": [
    {
     "name": "stdout",
     "output_type": "stream",
     "text": [
      "0 is same as 0 for double forloops\n",
      "0 is same as 1 for double forloops\n",
      "0 is same as 2 for double forloops\n",
      "0 is same as 3 for double forloops\n",
      "0 is same as 4 for double forloops\n",
      "1 is same as 0 for double forloops\n",
      "1 is same as 1 for double forloops\n",
      "1 is same as 2 for double forloops\n",
      "1 is same as 3 for double forloops\n",
      "1 is same as 4 for double forloops\n",
      "2 is same as 0 for double forloops\n",
      "2 is same as 1 for double forloops\n",
      "2 is same as 2 for double forloops\n",
      "2 is same as 3 for double forloops\n",
      "2 is same as 4 for double forloops\n",
      "3 is same as 0 for double forloops\n",
      "3 is same as 1 for double forloops\n",
      "3 is same as 2 for double forloops\n",
      "3 is same as 3 for double forloops\n",
      "3 is same as 4 for double forloops\n",
      "4 is same as 0 for double forloops\n",
      "4 is same as 1 for double forloops\n",
      "4 is same as 2 for double forloops\n",
      "4 is same as 3 for double forloops\n",
      "4 is same as 4 for double forloops\n"
     ]
    }
   ],
   "source": [
    "for i in range(5):\n",
    "    for j in range(5):\n",
    "        print(\"{} is same as {} for double forloops\".format(i,j))  # here we have each for each"
   ]
  },
  {
   "cell_type": "markdown",
   "id": "d6da6388",
   "metadata": {},
   "source": [
    "# Boolean and if statemens"
   ]
  },
  {
   "cell_type": "markdown",
   "id": "cd93c613",
   "metadata": {},
   "source": [
    "using boolean we can do logic ."
   ]
  },
  {
   "cell_type": "code",
   "execution_count": 31,
   "id": "35fb8003",
   "metadata": {},
   "outputs": [
    {
     "name": "stdout",
     "output_type": "stream",
     "text": [
      "True\n"
     ]
    }
   ],
   "source": [
    "a = True    # T in True and F in False is case sensitive\n",
    "b = False\n",
    "print(a)"
   ]
  },
  {
   "cell_type": "code",
   "execution_count": 32,
   "id": "af11a000",
   "metadata": {},
   "outputs": [
    {
     "name": "stdout",
     "output_type": "stream",
     "text": [
      "False\n"
     ]
    }
   ],
   "source": [
    "a = True    # T in True and F in False is case sensitive\n",
    "b = False\n",
    "print(b)"
   ]
  },
  {
   "cell_type": "code",
   "execution_count": 34,
   "id": "cfb2da33",
   "metadata": {},
   "outputs": [
    {
     "name": "stdout",
     "output_type": "stream",
     "text": [
      "True\n"
     ]
    }
   ],
   "source": [
    "a = True    # T in True and F in False is case sensitive\n",
    "b = False\n",
    "print(a or b)"
   ]
  },
  {
   "cell_type": "code",
   "execution_count": 35,
   "id": "519c59f2",
   "metadata": {},
   "outputs": [
    {
     "name": "stdout",
     "output_type": "stream",
     "text": [
      "False\n"
     ]
    }
   ],
   "source": [
    "a = True    # T in True and F in False is case sensitive\n",
    "b = False\n",
    "print(a and b)"
   ]
  },
  {
   "cell_type": "markdown",
   "id": "d537f32e",
   "metadata": {},
   "source": [
    "we can also invert it using not"
   ]
  },
  {
   "cell_type": "code",
   "execution_count": 36,
   "id": "e071a7da",
   "metadata": {},
   "outputs": [
    {
     "name": "stdout",
     "output_type": "stream",
     "text": [
      "True\n"
     ]
    }
   ],
   "source": [
    "a = True\n",
    "b = False\n",
    "print(a or not(b))"
   ]
  },
  {
   "cell_type": "code",
   "execution_count": 37,
   "id": "daf4af23",
   "metadata": {},
   "outputs": [
    {
     "name": "stdout",
     "output_type": "stream",
     "text": [
      "True\n"
     ]
    }
   ],
   "source": [
    "a = True    # T in True and F in False is case sensitive\n",
    "b = False\n",
    "print(a and not(b))"
   ]
  },
  {
   "cell_type": "markdown",
   "id": "052620ec",
   "metadata": {},
   "source": [
    "This can be convered to if statements."
   ]
  },
  {
   "cell_type": "code",
   "execution_count": 40,
   "id": "d754f145",
   "metadata": {},
   "outputs": [
    {
     "name": "stdout",
     "output_type": "stream",
     "text": [
      "yes\n"
     ]
    }
   ],
   "source": [
    "a = True    # T in True and F in False is case sensitive\n",
    "b = False\n",
    "if a:\n",
    "    print('yes')\n",
    "else:\n",
    "    print('no')"
   ]
  },
  {
   "cell_type": "code",
   "execution_count": 41,
   "id": "16e18406",
   "metadata": {},
   "outputs": [
    {
     "name": "stdout",
     "output_type": "stream",
     "text": [
      "no\n"
     ]
    }
   ],
   "source": [
    "a = True    # T in True and F in False is case sensitive\n",
    "b = False\n",
    "if b:\n",
    "    print('yes')\n",
    "else:\n",
    "    print('no')   # here we assigned b as false thats why resulted as no"
   ]
  },
  {
   "cell_type": "code",
   "execution_count": 42,
   "id": "688b2939",
   "metadata": {},
   "outputs": [
    {
     "name": "stdout",
     "output_type": "stream",
     "text": [
      "yes\n"
     ]
    }
   ],
   "source": [
    "a = True    # T in True and F in False is case sensitive\n",
    "b = False\n",
    "if a or b:\n",
    "    print('yes')\n",
    "else:\n",
    "    print('no')   # here we assigned  a or b as false that was before became yes."
   ]
  },
  {
   "cell_type": "markdown",
   "id": "3f513f5e",
   "metadata": {},
   "source": [
    "Lets use it"
   ]
  },
  {
   "cell_type": "code",
   "execution_count": 43,
   "id": "15a7fd70",
   "metadata": {},
   "outputs": [
    {
     "data": {
      "text/plain": [
       "True"
      ]
     },
     "execution_count": 43,
     "metadata": {},
     "output_type": "execute_result"
    }
   ],
   "source": [
    "i = 5    \n",
    "i==5      # here == means we are asking whether it is true or not"
   ]
  },
  {
   "cell_type": "code",
   "execution_count": 44,
   "id": "a80f911f",
   "metadata": {},
   "outputs": [
    {
     "data": {
      "text/plain": [
       "False"
      ]
     },
     "execution_count": 44,
     "metadata": {},
     "output_type": "execute_result"
    }
   ],
   "source": [
    "i = 5\n",
    "i==6"
   ]
  },
  {
   "cell_type": "code",
   "execution_count": 45,
   "id": "5218334d",
   "metadata": {},
   "outputs": [
    {
     "name": "stdout",
     "output_type": "stream",
     "text": [
      "False\n"
     ]
    }
   ],
   "source": [
    "#we can assign that in a variable too.\n",
    "i = 5\n",
    "b = i==6\n",
    "print(b)"
   ]
  },
  {
   "cell_type": "code",
   "execution_count": 46,
   "id": "36a9fd08",
   "metadata": {},
   "outputs": [
    {
     "name": "stdout",
     "output_type": "stream",
     "text": [
      "True\n"
     ]
    }
   ],
   "source": [
    "#we can assign that in a variable too.\n",
    "i = 5\n",
    "b = i==5\n",
    "print(b)"
   ]
  },
  {
   "cell_type": "code",
   "execution_count": 47,
   "id": "5bfc2734",
   "metadata": {},
   "outputs": [
    {
     "name": "stdout",
     "output_type": "stream",
     "text": [
      "yes\n"
     ]
    }
   ],
   "source": [
    "# we can do if else statement here\n",
    "\n",
    "i = 5\n",
    "if i == 5:\n",
    "    print(\"yes\")\n",
    "else:\n",
    "    print('no')"
   ]
  },
  {
   "cell_type": "code",
   "execution_count": 48,
   "id": "7e217de3",
   "metadata": {},
   "outputs": [
    {
     "name": "stdout",
     "output_type": "stream",
     "text": [
      "no\n"
     ]
    }
   ],
   "source": [
    "# we can do if else statement here\n",
    "\n",
    "i = 5\n",
    "if i == 6:\n",
    "    print(\"yes\")\n",
    "else:\n",
    "    print('no')"
   ]
  },
  {
   "cell_type": "code",
   "execution_count": 50,
   "id": "3d257116",
   "metadata": {},
   "outputs": [
    {
     "name": "stdout",
     "output_type": "stream",
     "text": [
      "no\n"
     ]
    }
   ],
   "source": [
    "# we can ask if it is not equal to something\n",
    "i = 7\n",
    "if i!= 7:\n",
    "    print(\"yes\")\n",
    "else:\n",
    "    print(\"no\")"
   ]
  },
  {
   "cell_type": "code",
   "execution_count": 51,
   "id": "943ff972",
   "metadata": {},
   "outputs": [
    {
     "name": "stdout",
     "output_type": "stream",
     "text": [
      "yes\n"
     ]
    }
   ],
   "source": [
    "# we can ask if it is not equal to something\n",
    "i = 7\n",
    "if i!= 6:\n",
    "    print(\"yes\")\n",
    "else:\n",
    "    print(\"no\")"
   ]
  },
  {
   "cell_type": "code",
   "execution_count": 52,
   "id": "b0440c8a",
   "metadata": {},
   "outputs": [
    {
     "name": "stdout",
     "output_type": "stream",
     "text": [
      "yes\n"
     ]
    }
   ],
   "source": [
    "# we can use ifelse in string statement\n",
    "if 'at' in 'cat':\n",
    "    print('yes')\n",
    "else:\n",
    "    print('no')"
   ]
  },
  {
   "cell_type": "code",
   "execution_count": 53,
   "id": "9d429ced",
   "metadata": {},
   "outputs": [
    {
     "name": "stdout",
     "output_type": "stream",
     "text": [
      "no\n"
     ]
    }
   ],
   "source": [
    "# we can use ifelse in string statement\n",
    "if 'og' in 'cat':\n",
    "    print('yes')\n",
    "else:\n",
    "    print('no')"
   ]
  },
  {
   "cell_type": "code",
   "execution_count": 55,
   "id": "470ae579",
   "metadata": {},
   "outputs": [
    {
     "name": "stdout",
     "output_type": "stream",
     "text": [
      "staement 1 is ture\n"
     ]
    }
   ],
   "source": [
    "# if i want to check two statement in ehich one of them is true then we can do elif\n",
    "\n",
    "i = 7\n",
    "if 'at' in 'cat' and i==4:\n",
    "    print(\"yes\")\n",
    "elif 'at' in 'cat':     # here we are telling it to print something if one of this which we wrote is true.\n",
    "    print(\"staement 1 is ture\")\n",
    "else:\n",
    "    print('no')\n"
   ]
  },
  {
   "cell_type": "code",
   "execution_count": 57,
   "id": "28b99d00",
   "metadata": {},
   "outputs": [
    {
     "name": "stdout",
     "output_type": "stream",
     "text": [
      "no\n"
     ]
    }
   ],
   "source": [
    "# if i want to check two statement in ehich one of them is true then we can do elif\n",
    "\n",
    "i = 7\n",
    "if 'at' in 'cat' and i==4:\n",
    "    print(\"yes\")\n",
    "elif i==4:     # here we are telling it to print something if one of this which we wrote is true.\n",
    "    print(\"staement 2 is ture\")\n",
    "else:\n",
    "    print('no')\n",
    "# but here staement in elif is not true so it didnt print the 2nd statement"
   ]
  },
  {
   "cell_type": "code",
   "execution_count": 61,
   "id": "ecc4462f",
   "metadata": {},
   "outputs": [
    {
     "name": "stdout",
     "output_type": "stream",
     "text": [
      "no\n"
     ]
    }
   ],
   "source": [
    "# o is equivalent to false and 1 is equivalent to true\n",
    "if 0:\n",
    "    print('yes')\n",
    "else:\n",
    "    print('no')"
   ]
  },
  {
   "cell_type": "code",
   "execution_count": 62,
   "id": "311b14a9",
   "metadata": {},
   "outputs": [
    {
     "name": "stdout",
     "output_type": "stream",
     "text": [
      "yes\n"
     ]
    }
   ],
   "source": [
    "# o is equivalent to false and 1 is equivalent to true\n",
    "if 1:\n",
    "    print('yes')\n",
    "else:\n",
    "    print('no')"
   ]
  },
  {
   "cell_type": "code",
   "execution_count": 63,
   "id": "4e197b8d",
   "metadata": {},
   "outputs": [
    {
     "name": "stdout",
     "output_type": "stream",
     "text": [
      "yes\n"
     ]
    }
   ],
   "source": [
    "# any numbers are true in python except 0\n",
    "if 32:\n",
    "    print('yes')\n",
    "else:\n",
    "    print('no')"
   ]
  },
  {
   "cell_type": "code",
   "execution_count": 67,
   "id": "45b628fd",
   "metadata": {},
   "outputs": [
    {
     "name": "stdout",
     "output_type": "stream",
     "text": [
      "yes\n"
     ]
    }
   ],
   "source": [
    "if -32:\n",
    "    print('yes')\n",
    "else:\n",
    "    print('no')"
   ]
  },
  {
   "cell_type": "code",
   "execution_count": null,
   "id": "da96ce4a",
   "metadata": {},
   "outputs": [],
   "source": []
  }
 ],
 "metadata": {
  "kernelspec": {
   "display_name": "Python 3 (ipykernel)",
   "language": "python",
   "name": "python3"
  },
  "language_info": {
   "codemirror_mode": {
    "name": "ipython",
    "version": 3
   },
   "file_extension": ".py",
   "mimetype": "text/x-python",
   "name": "python",
   "nbconvert_exporter": "python",
   "pygments_lexer": "ipython3",
   "version": "3.9.12"
  }
 },
 "nbformat": 4,
 "nbformat_minor": 5
}
